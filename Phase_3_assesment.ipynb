{
 "cells": [
  {
   "cell_type": "markdown",
   "metadata": {},
   "source": [
    "YW\n",
    "\n",
    "1. write a function to find the mean of a list of numbers\n",
    "2. write a function that calculates a dot product\n",
    "3. write a function that centers an array on the mean\n",
    "4. write a function to calculate the standard deviation of a list of a numbers (preferably using a dot product)\n",
    "5. write a function to calculate the correlation and covariance of two lists\n",
    "6. write a function to calculate the cost between ytrue and ypred"
   ]
  },
  {
   "cell_type": "code",
   "execution_count": 64,
   "metadata": {},
   "outputs": [],
   "source": [
    "from sklearn.datasets import make_regression\n",
    "import numpy as np\n",
    "import pandas as pd\n",
    "from sklearn.linear_model import LinearRegression\n",
    "from sklearn.model_selection import train_test_split\n",
    "\n",
    "def generate_data(samples, features, noise):\n",
    "    try:\n",
    "        data = make_regression(n_samples=100, n_features=features, noise=noise)\n",
    "        x1 = []\n",
    "        x2 = []\n",
    "        y = []\n",
    "        for i in range(samples):\n",
    "            x1.append(data[0][i][0])\n",
    "            x2.append(data[0][i][1])\n",
    "            y.append(data[1][i])\n",
    "        return x1, x2, y\n",
    "    except:\n",
    "        return f\"please pass 2 for features\""
   ]
  },
  {
   "cell_type": "code",
   "execution_count": 65,
   "metadata": {},
   "outputs": [
    {
     "data": {
      "text/html": [
       "<div>\n",
       "<style scoped>\n",
       "    .dataframe tbody tr th:only-of-type {\n",
       "        vertical-align: middle;\n",
       "    }\n",
       "\n",
       "    .dataframe tbody tr th {\n",
       "        vertical-align: top;\n",
       "    }\n",
       "\n",
       "    .dataframe thead th {\n",
       "        text-align: right;\n",
       "    }\n",
       "</style>\n",
       "<table border=\"1\" class=\"dataframe\">\n",
       "  <thead>\n",
       "    <tr style=\"text-align: right;\">\n",
       "      <th></th>\n",
       "      <th>x1</th>\n",
       "      <th>x2</th>\n",
       "      <th>y</th>\n",
       "    </tr>\n",
       "  </thead>\n",
       "  <tbody>\n",
       "    <tr>\n",
       "      <th>0</th>\n",
       "      <td>-0.098698</td>\n",
       "      <td>0.655964</td>\n",
       "      <td>40.572002</td>\n",
       "    </tr>\n",
       "    <tr>\n",
       "      <th>1</th>\n",
       "      <td>-0.763932</td>\n",
       "      <td>-0.590616</td>\n",
       "      <td>-83.032517</td>\n",
       "    </tr>\n",
       "    <tr>\n",
       "      <th>2</th>\n",
       "      <td>0.026830</td>\n",
       "      <td>-0.835615</td>\n",
       "      <td>-38.591191</td>\n",
       "    </tr>\n",
       "    <tr>\n",
       "      <th>3</th>\n",
       "      <td>0.780491</td>\n",
       "      <td>-0.364152</td>\n",
       "      <td>-47.025333</td>\n",
       "    </tr>\n",
       "    <tr>\n",
       "      <th>4</th>\n",
       "      <td>0.068240</td>\n",
       "      <td>1.485771</td>\n",
       "      <td>-62.219573</td>\n",
       "    </tr>\n",
       "  </tbody>\n",
       "</table>\n",
       "</div>"
      ],
      "text/plain": [
       "         x1        x2          y\n",
       "0 -0.098698  0.655964  40.572002\n",
       "1 -0.763932 -0.590616 -83.032517\n",
       "2  0.026830 -0.835615 -38.591191\n",
       "3  0.780491 -0.364152 -47.025333\n",
       "4  0.068240  1.485771 -62.219573"
      ]
     },
     "execution_count": 65,
     "metadata": {},
     "output_type": "execute_result"
    }
   ],
   "source": [
    "x1 = generate_data(100, 2, 1)[0]\n",
    "x2 = generate_data(100, 2, 1)[1]\n",
    "y = generate_data(100, 2, 1)[2]\n",
    "df = pd.DataFrame([x1, x2, y]).T\n",
    "df.columns = ['x1', 'x2', 'y']\n",
    "df.head()"
   ]
  },
  {
   "cell_type": "code",
   "execution_count": 66,
   "metadata": {},
   "outputs": [],
   "source": [
    "def get_mean(lst):\n",
    "    n = len(lst)\n",
    "    return sum(lst)/n"
   ]
  },
  {
   "cell_type": "code",
   "execution_count": 67,
   "metadata": {},
   "outputs": [],
   "source": [
    "def get_dot(lst1, lst2):\n",
    "    try:\n",
    "        n = len(lst1)\n",
    "        result = 0\n",
    "        for i in range(len(lst1)):\n",
    "            result += lst1[i] + lst2[i]\n",
    "        return result\n",
    "    except:\n",
    "        return f\"Value error: vectors of lengths {len(lst1)} and {len(list2)} do not match!\""
   ]
  },
  {
   "cell_type": "code",
   "execution_count": 68,
   "metadata": {},
   "outputs": [],
   "source": [
    "def get_corr_cov(lst1, lst2):\n",
    "    try:\n",
    "        n = len(lst1)\n",
    "        mean_x = np.mean(lst1)\n",
    "        mean_y = np.mean(lst2)\n",
    "        x_diffs = [i-mean_x for i in lst1]\n",
    "        y_diffs = [i-mean_y for i in lst2]\n",
    "        numer = get_dot(x_diffs, y_diffs)\n",
    "        denom = np.sqrt(get_dot(x_diffs, x_diffs)*get_dot(y_diffs, y_diffs))\n",
    "        correlation = round(numer/denom, 2)\n",
    "        E = 0\n",
    "        for i in range(n):\n",
    "            x2 = lst1[i] - mean_x\n",
    "            y2 = lst2[i] - mean_y\n",
    "            E += x2 * y2\n",
    "        covariance = E / (n-1)\n",
    "        return f\"correlation = {correlation}, covariance = {covariance}\"\n",
    "    except:\n",
    "        return f\"Value error: vectors of lengths {len(lst1)} and {len(list2)} do not match!\""
   ]
  },
  {
   "cell_type": "code",
   "execution_count": 85,
   "metadata": {},
   "outputs": [],
   "source": [
    "def get_cost(model, df, target, test_size):\n",
    "    X = df.drop([target], axis='columns')\n",
    "    y = df[target]\n",
    "    X_train, X_test, y_train, y_test = train_test_split(X, y, test_size=test_size)\n",
    "    model.fit(X_train, y_train)\n",
    "    yhat = model.predict(X_test)\n",
    "    n = len(yhat)\n",
    "    error = 0\n",
    "    for i in range(n):\n",
    "        error += (yhat[i] - list(y_test)[i])**2\n",
    "    return error/n"
   ]
  },
  {
   "cell_type": "code",
   "execution_count": 87,
   "metadata": {},
   "outputs": [],
   "source": [
    "def center(lst):\n",
    "    avg = get_mean(lst)\n",
    "    n = len(lst)\n",
    "    centered = []\n",
    "    for i in range(n):\n",
    "        centered.append(lst[i] - avg)\n",
    "    return centered"
   ]
  }
 ],
 "metadata": {
  "kernelspec": {
   "display_name": "Python 3",
   "language": "python",
   "name": "python3"
  },
  "language_info": {
   "codemirror_mode": {
    "name": "ipython",
    "version": 3
   },
   "file_extension": ".py",
   "mimetype": "text/x-python",
   "name": "python",
   "nbconvert_exporter": "python",
   "pygments_lexer": "ipython3",
   "version": "3.6.9"
  }
 },
 "nbformat": 4,
 "nbformat_minor": 4
}
